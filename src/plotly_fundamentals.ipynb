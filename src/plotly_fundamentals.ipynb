{
 "cells": [
  {
   "cell_type": "code",
   "execution_count": 14,
   "metadata": {},
   "outputs": [
    {
     "data": {
      "text/plain": [
       "\"\\n    Figure({\\n        'data': [{'hovertemplate': 'x=%{x}<br>y=%{y}<extra></extra>',\\n                'legendgroup': '',\\n                'line': {'color': '#636efa', 'dash': 'solid'},\\n                'marker': {'symbol': 'circle'},\\n                'mode': 'lines',\\n                'name': '',\\n                'orientation': 'v',\\n                'showlegend': False,\\n                'type': 'scatter',\\n                'x': array(['a', 'b', 'c', 'd'], dtype=object),\\n                'xaxis': 'x',\\n                'y': array([1, 3, 2, 'd'], dtype=object),\\n                'yaxis': 'y'}],\\n        'layout': {'legend': {'tracegroupgap': 0},\\n                'template': '...',\\n                'title': {'text': 'SAMPLE figure'},\\n                'xaxis': {'anchor': 'y', 'domain': [0.0, 1.0], 'title': {'text': 'x'}},\\n                'yaxis': {'anchor': 'x', 'domain': [0.0, 1.0], 'title': {'text': 'y'}}}\\n    })\\n\""
      ]
     },
     "execution_count": 14,
     "metadata": {},
     "output_type": "execute_result"
    }
   ],
   "source": [
    "# https://plotly.com/python/figure-structure/\n",
    "import plotly.express as px\n",
    "\n",
    "### \"d\" on x-axis is created, but not point shown on plot\n",
    "x=[\"a\",\"b\",\"c\", \"d\"]\n",
    "y=[1,3,2, \"d\"]\n",
    "\n",
    "## ERROR: ValueError: All arguments should have the same length. The length of argument `y` is 3, whereas the length of  previously-processed arguments ['x'] is 4\n",
    "# x=[\"a\",\"b\",\"c\", \"d\"]\n",
    "# y=[1,3,2,]\n",
    "\n",
    "## Puts a 4 on the x-axis, but no point shown on plot\n",
    "# x=[\"a\",\"b\",\"c\", 4]\n",
    "# y=[1,3,2,\"d\"]\n",
    "\n",
    "fig = px.line(\n",
    "    x= x, \n",
    "    y= y, \n",
    "    title=\"SAMPLE figure\")\n",
    "\n",
    "## Commented out to remove output\n",
    "# print(fig)\n",
    "\"\"\"\n",
    "    Figure({\n",
    "        'data': [{'hovertemplate': 'x=%{x}<br>y=%{y}<extra></extra>',\n",
    "                'legendgroup': '',\n",
    "                'line': {'color': '#636efa', 'dash': 'solid'},\n",
    "                'marker': {'symbol': 'circle'},\n",
    "                'mode': 'lines',\n",
    "                'name': '',\n",
    "                'orientation': 'v',\n",
    "                'showlegend': False,\n",
    "                'type': 'scatter',\n",
    "                'x': array(['a', 'b', 'c', 'd'], dtype=object),\n",
    "                'xaxis': 'x',\n",
    "                'y': array([1, 3, 2, 'd'], dtype=object),\n",
    "                'yaxis': 'y'}],\n",
    "        'layout': {'legend': {'tracegroupgap': 0},\n",
    "                'template': '...',\n",
    "                'title': {'text': 'SAMPLE figure'},\n",
    "                'xaxis': {'anchor': 'y', 'domain': [0.0, 1.0], 'title': {'text': 'x'}},\n",
    "                'yaxis': {'anchor': 'x', 'domain': [0.0, 1.0], 'title': {'text': 'y'}}}\n",
    "    })\n",
    "\"\"\"\n",
    "# fig.show()"
   ]
  },
  {
   "cell_type": "code",
   "execution_count": 24,
   "metadata": {},
   "outputs": [],
   "source": [
    "## https://plotly.com/python/creating-and-updating-figures/\n",
    "\n",
    "#### Manually create the dictionary structure of a figure\n",
    "    ## The equivalent figure can be created by passing the following dictionary to the plotly.graph_objects.Figure constructor\n",
    "fig = dict({\n",
    "    \"data\": [\n",
    "            { \"type\": \"bar\",\n",
    "              \"x\": [1, 2, 3],\n",
    "              \"y\": [1, 3, 2]}],\n",
    "    \"layout\": {\n",
    "                \"title\": {\n",
    "                    \"text\": \"A Figure Specified By Python Dictionary\"}}\n",
    "})\n",
    "\n",
    "# To display the figure defined by this dict, use the low-level plotly.io.show function\n",
    "import plotly.io as pio\n",
    "\n",
    "# pio.show(fig)"
   ]
  },
  {
   "cell_type": "code",
   "execution_count": 30,
   "metadata": {},
   "outputs": [],
   "source": [
    "# https://plotly.com/python/creating-and-updating-figures/#figures-as-graph-objects\n",
    "import plotly.graph_objects as go\n",
    "\n",
    "fig = go.Figure(\n",
    "    data=[\n",
    "        go.Bar(\n",
    "            x=[1, 2, 3], \n",
    "            y=[1, 3, 2])],\n",
    "    \n",
    "    layout=go.Layout(\n",
    "        title=go.layout.Title(text=\"A Figure Specified By A Graph Object\")\n",
    "    )\n",
    ")\n",
    "\n",
    "# fig.show()"
   ]
  },
  {
   "cell_type": "code",
   "execution_count": 41,
   "metadata": {},
   "outputs": [
    {
     "name": "stdout",
     "output_type": "stream",
     "text": [
      "[1, 2, 3]\n"
     ]
    }
   ],
   "source": [
    "# https://plotly.com/python/creating-and-updating-figures/#converting-graph-objects-to-dictionaries-and-json\n",
    "import plotly.graph_objects as go\n",
    "\n",
    "fig = go.Figure(\n",
    "    data=[go.Bar(x=[1, 2, 3], y=[1, 3, 2])],\n",
    "    layout=go.Layout(height=600, width=800)\n",
    ")\n",
    "\n",
    "fig.layout.template = None # to slim down the output\n",
    "\n",
    "# print(\"Dictionary Representation of A Graph Object:\\n\\n\" + str(fig.to_dict()))\n",
    "# print(\"\\n\\n\")\n",
    "# print(\"JSON Representation of A Graph Object:\\n\\n\" + str(fig.to_json()))\n",
    "# print(\"\\n\\n\")\n",
    "\"\"\"\n",
    "    Dictionary Representation of A Graph Object:\n",
    "    {'data': [{'x': [1, 2, 3], 'y': [1, 3, 2], 'type': 'bar'}], 'layout': {'height': 600, 'width': 800}}\n",
    "\n",
    "    JSON Representation of A Graph Object:\n",
    "    {\"data\":[{\"x\":[1,2,3],\"y\":[1,3,2],\"type\":\"bar\"}],\"layout\":{\"height\":600,\"width\":800}}\n",
    "\"\"\"\n",
    "\n",
    "### Ability to access x-axis values from withing Figure object\n",
    "value= fig.to_dict()['data'][0]['x'] #[1]\n",
    "print(value)\n",
    "\n",
    "######### Fool's errand, red herring -- this is likely not the appropriate way to update the x-axis value #######\n",
    "# Update the value in the second place of the y-axis\n",
    "# fig.data[0].y[1] = 5  # Changing the second y value from 3 to 5\n",
    "# # fig.to_dict()['data'][0]['x'][1]= 5\n",
    "\n",
    "# # # Display the figure\n",
    "# fig.show()\n",
    "\n",
    "# # Print the updated y values to verify the change\n",
    "# print(fig.data[0].y)"
   ]
  }
 ],
 "metadata": {
  "kernelspec": {
   "display_name": "Python 3",
   "language": "python",
   "name": "python3"
  },
  "language_info": {
   "codemirror_mode": {
    "name": "ipython",
    "version": 3
   },
   "file_extension": ".py",
   "mimetype": "text/x-python",
   "name": "python",
   "nbconvert_exporter": "python",
   "pygments_lexer": "ipython3",
   "version": "3.12.5"
  }
 },
 "nbformat": 4,
 "nbformat_minor": 2
}
